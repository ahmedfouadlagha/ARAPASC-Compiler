{
  "nbformat": 4,
  "nbformat_minor": 0,
  "metadata": {
    "colab": {
      "provenance": [],
      "authorship_tag": "ABX9TyNcw26eT9ryaIacWs0oYz8o",
      "include_colab_link": true
    },
    "kernelspec": {
      "name": "python3",
      "display_name": "Python 3"
    },
    "language_info": {
      "name": "python"
    }
  },
  "cells": [
    {
      "cell_type": "markdown",
      "metadata": {
        "id": "view-in-github",
        "colab_type": "text"
      },
      "source": [
        "<a href=\"https://colab.research.google.com/github/ahmedfouadlagha/ARAPASC-Compiler/blob/master/Untitled0.ipynb\" target=\"_parent\"><img src=\"https://colab.research.google.com/assets/colab-badge.svg\" alt=\"Open In Colab\"/></a>"
      ]
    },
    {
      "cell_type": "code",
      "execution_count": null,
      "metadata": {
        "colab": {
          "base_uri": "https://localhost:8080/"
        },
        "id": "Ql9VIxaT5vL5",
        "outputId": "1a6cb021-5750-495d-d1ce-dc7e9042d610"
      },
      "outputs": [
        {
          "output_type": "stream",
          "name": "stdout",
          "text": [
            "[ 0.02007996 -0.07634718 -0.01290003 -0.00189907 -0.53484886 -0.10479511\n",
            "  0.00377297  0.06652038  0.00078687 -0.00438468 -0.00214997]\n",
            "0.40127127867559637\n"
          ]
        }
      ],
      "source": [
        "import numpy as np\n",
        "#features\n",
        "CRIM = np.array([6.53876,9.23230,8.26725,11.1081,18.4982,19.6091, 15.2880, 9.82349, 23.6482, 17.8667])\n",
        "CHAS = np.array([1,0,1,0,0,0,0,0,0,0])\n",
        "NOX = np.array([0.6310, 0.6310, 0.6680, 0.6680, 0.6680, 0.6710, 0.6710, 0.6710, 0.6710, 0.6710])\n",
        "RM = np.array([7.0160, 6.2160, 5.8750, 4.9060, 4.1380, 7.3130, 6.6490, 6.7940, 6.3800, 6.2230])\n",
        "AGE = np.array([97.50 ,100.00, 89.60, 100.00, 100.00 , 97.90, 93.30, 98.80, 96.20, 100.00])\n",
        "DIS = np.array([1.2024, 1.1691, 1.1296, 1.1742, 1.1370, 1.3163, 1.3449, 1.3580,1.3861, 1.3861])\n",
        "RAD = np.array([24,24,24,24,24,24,24,24,24,24])\n",
        "TAX = np.array([666,666,666,666,666,666,666,666,666,666])\n",
        "PTRATIO = np.array([20.20,20.20,20.20,20.20,20.20,20.20,20.20,20.20,20.20,20.20])\n",
        "B = np.array([392.05, 366.15, 347.88, 396.90, 396.90, 396.90, 363.02, 396.90, 396.90, 393.74])\n",
        "LSTAT = np.array([2.96, 9.53, 8.88, 34.77, 37.97, 13.44, 23.24, 21.24, 23.69, 21.78])\n",
        "MEDV = np.array([50.00, 50.00, 50.00, 13.80, 13.80, 15.00, 13.90, 13.30, 13.10, 10.20])\n",
        "\n",
        "\n",
        "X = np.array([CRIM,CHAS,RM,AGE,DIS,RAD,TAX,PTRATIO,B,LSTAT,MEDV]).T\n",
        "w =  np.dot(np.dot(np.linalg.inv(np.dot(X.T,X)),X.T),NOX)\n",
        "print(w)\n",
        "\n",
        "loss = np.dot((NOX-np.dot(X,w)).T,(NOX-np.dot(X,w)))\n",
        "print(loss)\n",
        "\n",
        "\n"
      ]
    }
  ]
}